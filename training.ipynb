{
 "cells": [
  {
   "cell_type": "markdown",
   "metadata": {
    "id": "dPNWWx9-ddWj"
   },
   "source": [
    "# Load Dataset from Roboflow"
   ]
  },
  {
   "cell_type": "code",
   "execution_count": null,
   "metadata": {
    "colab": {
     "base_uri": "https://localhost:8080/",
     "height": 1000
    },
    "executionInfo": {
     "elapsed": 52051,
     "status": "ok",
     "timestamp": 1700802107956,
     "user": {
      "displayName": "Sumit Pal Singh",
      "userId": "02861102461267662538"
     },
     "user_tz": -330
    },
    "id": "mKjL0pDDdMBN",
    "outputId": "1a923a09-dd6c-4123-abb0-40ce4ef830e5"
   },
   "outputs": [],
   "source": [
    "!pip install roboflow\n",
    "\n",
    "from roboflow import Roboflow\n",
    "rf = Roboflow(api_key=\"UhgfoInDfNJMdCeUhw4q\")\n",
    "project = rf.workspace(\"vegetables\").project(\"vegetables-el4g6\")\n",
    "dataset = project.version(1).download(\"yolov5\")"
   ]
  },
  {
   "cell_type": "markdown",
   "metadata": {
    "id": "2FeaKXl8d2gN"
   },
   "source": [
    "# Connect GDrive"
   ]
  },
  {
   "cell_type": "code",
   "execution_count": null,
   "metadata": {
    "colab": {
     "base_uri": "https://localhost:8080/"
    },
    "executionInfo": {
     "elapsed": 24539,
     "status": "ok",
     "timestamp": 1700808600878,
     "user": {
      "displayName": "Sumit Pal Singh",
      "userId": "02861102461267662538"
     },
     "user_tz": -330
    },
    "id": "U-ZPn4nYdmY8",
    "outputId": "dd2b3c81-50e3-4d3b-bf6e-1c6c4e6e854c"
   },
   "outputs": [],
   "source": [
    "from google.colab import drive\n",
    "drive.mount('/content/drive')"
   ]
  },
  {
   "cell_type": "code",
   "execution_count": null,
   "metadata": {
    "colab": {
     "base_uri": "https://localhost:8080/"
    },
    "executionInfo": {
     "elapsed": 9,
     "status": "ok",
     "timestamp": 1700808600879,
     "user": {
      "displayName": "Sumit Pal Singh",
      "userId": "02861102461267662538"
     },
     "user_tz": -330
    },
    "id": "i18dOeCFe2_M",
    "outputId": "91cf4d1b-e22d-44dd-b6f1-e89acba8789e"
   },
   "outputs": [],
   "source": [
    "%cd \"/content/drive/MyDrive/Recipe Suggestion\""
   ]
  },
  {
   "cell_type": "markdown",
   "metadata": {},
   "source": [
    "# Load YoloV5"
   ]
  },
  {
   "cell_type": "code",
   "execution_count": null,
   "metadata": {
    "colab": {
     "base_uri": "https://localhost:8080/"
    },
    "executionInfo": {
     "elapsed": 23569,
     "status": "ok",
     "timestamp": 1700804890011,
     "user": {
      "displayName": "Sumit Pal Singh",
      "userId": "02861102461267662538"
     },
     "user_tz": -330
    },
    "id": "lnuu-b4ifH9R",
    "outputId": "448ae1ed-4d67-46ea-c56b-328e24c1fdd3"
   },
   "outputs": [],
   "source": [
    "# for google colab\n",
    "!git clone https://github.com/ultralytics/yolov5  # clone\n",
    "%cd yolov5\n",
    "%pip install -qr requirements.txt  # install\n",
    "import utils\n",
    "display = utils.notebook_init()  # checks"
   ]
  },
  {
   "cell_type": "markdown",
   "metadata": {},
   "source": [
    "# Train model on custom data"
   ]
  },
  {
   "cell_type": "code",
   "execution_count": null,
   "metadata": {
    "colab": {
     "base_uri": "https://localhost:8080/"
    },
    "executionInfo": {
     "elapsed": 19132,
     "status": "ok",
     "timestamp": 1700733558590,
     "user": {
      "displayName": "Sumit Pal Singh",
      "userId": "02861102461267662538"
     },
     "user_tz": -330
    },
    "id": "gj9h4yTxfias",
    "outputId": "3dfa1899-2849-44e3-e8f6-36af702b94fb"
   },
   "outputs": [],
   "source": [
    "# copy data yaml from vegetable folder and paste it in yoloV5\n",
    "!python train.py --img 416 --batch 32 --epochs 50 --data data.yaml --weights yolov5s.pt\n",
    "# after train download trained model from gdrive"
   ]
  },
  {
   "cell_type": "code",
   "execution_count": null,
   "metadata": {},
   "outputs": [],
   "source": []
  }
 ],
 "metadata": {
  "colab": {
   "authorship_tag": "ABX9TyN0evtakdtTba08Xh8P0lDS",
   "provenance": []
  },
  "kernelspec": {
   "display_name": "Python 3 (ipykernel)",
   "language": "python",
   "name": "python3"
  },
  "language_info": {
   "codemirror_mode": {
    "name": "ipython",
    "version": 3
   },
   "file_extension": ".py",
   "mimetype": "text/x-python",
   "name": "python",
   "nbconvert_exporter": "python",
   "pygments_lexer": "ipython3",
   "version": "3.8.10"
  }
 },
 "nbformat": 4,
 "nbformat_minor": 4
}
